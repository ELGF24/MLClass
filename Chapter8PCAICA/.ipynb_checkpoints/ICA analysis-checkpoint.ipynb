{
 "cells": [
  {
   "cell_type": "code",
   "execution_count": 19,
   "metadata": {
    "collapsed": false
   },
   "outputs": [
    {
     "name": "stdout",
     "output_type": "stream",
     "text": [
      "31\n",
      "(31, 4096)\n"
     ]
    }
   ],
   "source": [
    "import pylab as plt\n",
    "import numpy as np\n",
    "import scipy as sp\n",
    "import matplotlib.pyplot as plt\n",
    "import matplotlib.cm as cm\n",
    "import numpy as np\n",
    "import os, sys\n",
    "from PIL import Image\n",
    "%matplotlib inline\n",
    "path = \"data/images\"\n",
    "im_array = []\n",
    "for file in os.listdir(path):\n",
    "    if file.endswith(\".png\"):\n",
    "        foo = Image.open(os.path.join(path, file))\n",
    "        foo = foo.resize((64,64),Image.ANTIALIAS)\n",
    "        image = np.array(foo)\n",
    "        im = np.reshape(image, (1, 64*64))\n",
    "        im_array.append(im)\n",
    "print len(im_array)\n",
    "im_array =np.reshape(np.array(im_array), (31, 64*64))\n",
    "print im_array.shape"
   ]
  },
  {
   "cell_type": "code",
   "execution_count": null,
   "metadata": {
    "collapsed": true
   },
   "outputs": [],
   "source": []
  }
 ],
 "metadata": {
  "kernelspec": {
   "display_name": "Python 2",
   "language": "python",
   "name": "python2"
  },
  "language_info": {
   "codemirror_mode": {
    "name": "ipython",
    "version": 2
   },
   "file_extension": ".py",
   "mimetype": "text/x-python",
   "name": "python",
   "nbconvert_exporter": "python",
   "pygments_lexer": "ipython2",
   "version": "2.7.11"
  }
 },
 "nbformat": 4,
 "nbformat_minor": 0
}
