{
 "metadata": {
  "name": "",
  "signature": "sha256:c6c2bdf28e26ce1e8bb613d10f991ca089ecfa9f6597b3959339b46da0f4b98b"
 },
 "nbformat": 3,
 "nbformat_minor": 0,
 "worksheets": []
}