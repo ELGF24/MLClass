{
 "cells": [
  {
   "cell_type": "markdown",
   "metadata": {},
   "source": [
    "# Regression 101"
   ]
  },
  {
   "cell_type": "markdown",
   "metadata": {},
   "source": [
    "This is our first basic regression example.\n",
    "\n",
    "In this example, we won't be doing anything complicated or using complex databases yet."
   ]
  },
  {
   "cell_type": "code",
   "execution_count": 5,
   "metadata": {
    "collapsed": false
   },
   "outputs": [],
   "source": [
    "import numpy as np\n",
    "from sklearn import linear_model\n",
    "lr = linear_model.LinearRegression() #In sklearn we define an object as our ML operator\n",
    "import pylab as plt\n",
    "%matplotlib inline \n",
    "#again, this is only in jupyter notebooks"
   ]
  },
  {
   "cell_type": "code",
   "execution_count": 6,
   "metadata": {
    "collapsed": false
   },
   "outputs": [
    {
     "name": "stdout",
     "output_type": "stream",
     "text": [
      "[ 0  1  4  9 16 25 36 49 64 81]\n"
     ]
    }
   ],
   "source": [
    "#Let's create some data\n",
    "x = np.arange(0,10,1) #Data from 0 to 10 in steps of 1\n",
    "y = np.power(x,2)\n",
    "print y"
   ]
  },
  {
   "cell_type": "code",
   "execution_count": 7,
   "metadata": {
    "collapsed": false
   },
   "outputs": [
    {
     "data": {
      "text/plain": [
       "<matplotlib.collections.PathCollection at 0xc147be0>"
      ]
     },
     "execution_count": 7,
     "metadata": {},
     "output_type": "execute_result"
    },
    {
     "data": {
      "image/png": "[encoded data removed]",
      "text/plain": [
       "<matplotlib.figure.Figure at 0xbf648d0>"
      ]
     },
     "metadata": {},
     "output_type": "display_data"
    }
   ],
   "source": [
    "plt.scatter(x,y)"
   ]
  },
  {
   "cell_type": "code",
   "execution_count": 8,
   "metadata": {
    "collapsed": false
   },
   "outputs": [
    {
     "data": {
      "text/plain": [
       "LinearRegression(copy_X=True, fit_intercept=True, n_jobs=1, normalize=False)"
      ]
     },
     "execution_count": 8,
     "metadata": {},
     "output_type": "execute_result"
    }
   ],
   "source": [
    "#lr.fit(x,y)#<-- This doesn't work!!\n",
    "#We need to reshape from 1D to 2D vectors\n",
    "\n",
    "x = x[:,None]\n",
    "y = y[:,None]\n",
    "lr.fit(x,y)"
   ]
  },
  {
   "cell_type": "code",
   "execution_count": 9,
   "metadata": {
    "collapsed": false
   },
   "outputs": [
    {
     "name": "stdout",
     "output_type": "stream",
     "text": [
      "[[ 9.]]\n",
      "[-12.]\n"
     ]
    }
   ],
   "source": [
    "print lr.coef_\n",
    "print lr.intercept_"
   ]
  },
  {
   "cell_type": "markdown",
   "metadata": {},
   "source": [
    "The resulting weight is:\n",
    "\n",
    "$y = 9x - 12$"
   ]
  },
  {
   "cell_type": "code",
   "execution_count": 10,
   "metadata": {
    "collapsed": true
   },
   "outputs": [],
   "source": [
    "predict_y = lr.predict(x)"
   ]
  },
  {
   "cell_type": "code",
   "execution_count": 11,
   "metadata": {
    "collapsed": false
   },
   "outputs": [
    {
     "data": {
      "text/plain": [
       "<matplotlib.collections.PathCollection at 0xc340f28>"
      ]
     },
     "execution_count": 11,
     "metadata": {},
     "output_type": "execute_result"
    },
    {
     "data": {
      "image/png": "[encoded data removed]",
      "text/plain": [
       "<matplotlib.figure.Figure at 0x3d4c6d8>"
      ]
     },
     "metadata": {},
     "output_type": "display_data"
    }
   ],
   "source": [
    "plt.plot(x, predict_y, c ='red')\n",
    "plt.scatter(x, y, c ='blue')"
   ]
  },
  {
   "cell_type": "code",
   "execution_count": 12,
   "metadata": {
    "collapsed": false
   },
   "outputs": [],
   "source": [
    "lr.fit_intercept = False"
   ]
  },
  {
   "cell_type": "code",
   "execution_count": 13,
   "metadata": {
    "collapsed": false
   },
   "outputs": [
    {
     "name": "stdout",
     "output_type": "stream",
     "text": [
      "[[ 7.10526316]]\n",
      "0.0\n"
     ]
    }
   ],
   "source": [
    "lr.fit(x,y)\n",
    "print lr.coef_\n",
    "print lr.intercept_"
   ]
  },
  {
   "cell_type": "code",
   "execution_count": 14,
   "metadata": {
    "collapsed": false
   },
   "outputs": [
    {
     "data": {
      "text/plain": [
       "[<matplotlib.lines.Line2D at 0xc147cf8>]"
      ]
     },
     "execution_count": 14,
     "metadata": {},
     "output_type": "execute_result"
    },
    {
     "data": {
      "image/png": "[encoded data removed]",
      "text/plain": [
       "<matplotlib.figure.Figure at 0xc427c18>"
      ]
     },
     "metadata": {},
     "output_type": "display_data"
    }
   ],
   "source": [
    "predict_y_2 = lr.predict(x)\n",
    "plt.plot(x, predict_y, c ='red')\n",
    "plt.scatter(x, y, c ='blue')\n",
    "plt.plot(x, predict_y_2, c ='orange')"
   ]
  },
  {
   "cell_type": "code",
   "execution_count": 15,
   "metadata": {
    "collapsed": false
   },
   "outputs": [
    {
     "name": "stdout",
     "output_type": "stream",
     "text": [
      "[[  0.   0.]\n",
      " [  1.   1.]\n",
      " [  2.   4.]\n",
      " [  3.   9.]\n",
      " [  4.  16.]\n",
      " [  5.  25.]\n",
      " [  6.  36.]\n",
      " [  7.  49.]\n",
      " [  8.  64.]\n",
      " [  9.  81.]]\n"
     ]
    }
   ],
   "source": [
    "from sklearn.preprocessing import PolynomialFeatures\n",
    "poly = PolynomialFeatures(2, include_bias = False)\n",
    "x_2 = poly.fit_transform(x)\n",
    "print x_2"
   ]
  },
  {
   "cell_type": "code",
   "execution_count": 16,
   "metadata": {
    "collapsed": false
   },
   "outputs": [
    {
     "name": "stdout",
     "output_type": "stream",
     "text": [
      "[[  1.70304238e-15   1.00000000e+00]]\n",
      "0.0\n"
     ]
    }
   ],
   "source": [
    "lr.intercept_ = True\n",
    "lr.fit(x_2,y)\n",
    "print lr.coef_\n",
    "print lr.intercept_"
   ]
  },
  {
   "cell_type": "code",
   "execution_count": 17,
   "metadata": {
    "collapsed": false
   },
   "outputs": [
    {
     "data": {
      "text/plain": [
       "[<matplotlib.lines.Line2D at 0xc86d588>]"
      ]
     },
     "execution_count": 17,
     "metadata": {},
     "output_type": "execute_result"
    },
    {
     "data": {
      "image/png": "[encoded data removed]",
      "text/plain": [
       "<matplotlib.figure.Figure at 0xc632828>"
      ]
     },
     "metadata": {},
     "output_type": "display_data"
    }
   ],
   "source": [
    "predict_y_3 = lr.predict(x_2)\n",
    "plt.plot(x, predict_y, c ='red',label = 'First Attempt')\n",
    "plt.scatter(x, y, c ='blue')\n",
    "plt.plot(x, predict_y_2, c ='orange', label = 'Second Attempt (no intercept)')\n",
    "plt.plot(x, predict_y_3, c ='black', label = 'Different features')\n"
   ]
  },
  {
   "cell_type": "code",
   "execution_count": 18,
   "metadata": {
    "collapsed": false
   },
   "outputs": [
    {
     "data": {
      "text/plain": [
       "<matplotlib.legend.Legend at 0xc9dda58>"
      ]
     },
     "execution_count": 18,
     "metadata": {},
     "output_type": "execute_result"
    },
    {
     "data": {
      "image/png": "[encoded data removed]",
      "text/plain": [
       "<matplotlib.figure.Figure at 0xc15e710>"
      ]
     },
     "metadata": {},
     "output_type": "display_data"
    }
   ],
   "source": [
    "predict_y_3 = lr.predict(x_2)\n",
    "plt.plot(x, predict_y, c ='red',label = 'First Attempt')\n",
    "plt.scatter(x, y, c ='blue')\n",
    "plt.plot(x, predict_y_2, c ='orange', label = 'Second Attempt (no intercept)')\n",
    "plt.plot(x, predict_y_3, c ='black', label = 'Different features')\n",
    "\n",
    "plt.legend()"
   ]
  },
  {
   "cell_type": "code",
   "execution_count": 22,
   "metadata": {
    "collapsed": false
   },
   "outputs": [
    {
     "name": "stdout",
     "output_type": "stream",
     "text": [
      "[[   0.    0.    0.]\n",
      " [   1.    1.    1.]\n",
      " [   2.    4.    8.]\n",
      " [   3.    9.   27.]\n",
      " [   4.   16.   64.]\n",
      " [   5.   25.  125.]\n",
      " [   6.   36.  216.]\n",
      " [   7.   49.  343.]\n",
      " [   8.   64.  512.]\n",
      " [   9.   81.  729.]]\n",
      "[[  9.30704723e-15   1.00000000e+00  -1.11022302e-16]]\n",
      "0.0\n"
     ]
    }
   ],
   "source": [
    "poly = PolynomialFeatures(3, include_bias = False)\n",
    "x_3 = poly.fit_transform(x)\n",
    "print x_3\n",
    "lr.intercept_ = True\n",
    "lr.fit(x_3,y)\n",
    "print lr.coef_\n",
    "print lr.intercept_"
   ]
  },
  {
   "cell_type": "code",
   "execution_count": 23,
   "metadata": {
    "collapsed": false
   },
   "outputs": [
    {
     "data": {
      "text/plain": [
       "[<matplotlib.lines.Line2D at 0xd2bdb38>]"
      ]
     },
     "execution_count": 23,
     "metadata": {},
     "output_type": "execute_result"
    },
    {
     "data": {
      "image/png": "[encoded data removed]",
      "text/plain": [
       "<matplotlib.figure.Figure at 0xd14f0b8>"
      ]
     },
     "metadata": {},
     "output_type": "display_data"
    }
   ],
   "source": [
    "predict_y_4 = lr.predict(x_3)\n",
    "plt.plot(x, predict_y, c ='red',label = 'First Attempt')\n",
    "plt.scatter(x, y, c ='blue')\n",
    "plt.plot(x, predict_y_2, c ='orange', label = 'Second Attempt (no intercept)')\n",
    "plt.plot(x, predict_y_3, c ='black', label = 'Different features')\n",
    "plt.plot(x, predict_y_4, c ='black', label = '3rd Degree')"
   ]
  },
  {
   "cell_type": "code",
   "execution_count": 30,
   "metadata": {
    "collapsed": false
   },
   "outputs": [
    {
     "name": "stdout",
     "output_type": "stream",
     "text": [
      "[[ 7.2319147   1.26784217 -0.06445063]]\n",
      "0.0\n"
     ]
    }
   ],
   "source": [
    "y_noise = np.random.rand(10,1)\n",
    "y_n = y + 100*y_noise\n",
    "lr.fit(x_3,y_n)\n",
    "print lr.coef_\n",
    "print lr.intercept_"
   ]
  },
  {
   "cell_type": "code",
   "execution_count": 31,
   "metadata": {
    "collapsed": false
   },
   "outputs": [
    {
     "data": {
      "text/plain": [
       "[<matplotlib.lines.Line2D at 0xc6fe6d8>]"
      ]
     },
     "execution_count": 31,
     "metadata": {},
     "output_type": "execute_result"
    },
    {
     "data": {
      "image/png": "[encoded data removed]",
      "text/plain": [
       "<matplotlib.figure.Figure at 0xd827198>"
      ]
     },
     "metadata": {},
     "output_type": "display_data"
    }
   ],
   "source": [
    "predict_y_n = lr.predict(x_3)\n",
    "plt.scatter(x, y, c ='blue')\n",
    "plt.scatter(x, y_n, c ='red')\n",
    "plt.plot(x, predict_y_n, c ='black', label = '3rd Degree')\n"
   ]
  },
  {
   "cell_type": "code",
   "execution_count": 33,
   "metadata": {
    "collapsed": false
   },
   "outputs": [
    {
     "data": {
      "text/plain": [
       "[<matplotlib.lines.Line2D at 0xc138c18>]"
      ]
     },
     "execution_count": 33,
     "metadata": {},
     "output_type": "execute_result"
    },
    {
     "data": {
      "image/png": "[encoded data removed]",
      "text/plain": [
       "<matplotlib.figure.Figure at 0xd4558d0>"
      ]
     },
     "metadata": {},
     "output_type": "display_data"
    }
   ],
   "source": [
    "poly = PolynomialFeatures(5, include_bias = False)\n",
    "x_5 = poly.fit_transform(x)\n",
    "lr.fit(x_5,y_n)\n",
    "predict_y_n = lr.predict(x_5)\n",
    "plt.scatter(x, y, c ='blue')\n",
    "plt.scatter(x, y_n, c ='red')\n",
    "plt.plot(x, predict_y_n, c ='black', label = '3rd Degree')"
   ]
  }
 ],
 "metadata": {
  "kernelspec": {
   "display_name": "Python 2",
   "language": "python",
   "name": "python2"
  },
  "language_info": {
   "codemirror_mode": {
    "name": "ipython",
    "version": 2
   },
   "file_extension": ".py",
   "mimetype": "text/x-python",
   "name": "python",
   "nbconvert_exporter": "python",
   "pygments_lexer": "ipython2",
   "version": "2.7.11"
  }
 },
 "nbformat": 4,
 "nbformat_minor": 0
}
