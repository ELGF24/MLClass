{
 "cells": [
  {
   "cell_type": "markdown",
   "metadata": {},
   "source": [
    "[Go back to the main page](https://leonpalafox.github.io/MLClass/)"
   ]
  },
  {
   "cell_type": "markdown",
   "metadata": {},
   "source": [
    "- [What is Machine Learning](#what_is_machine_learning)\n",
    "- [Modern applications of Machine Learning](#machine_learning_apps)"
   ]
  },
  {
   "cell_type": "markdown",
   "metadata": {},
   "source": [
    "# Introduction"
   ]
  },
  {
   "cell_type": "markdown",
   "metadata": {},
   "source": [
    "<a id='what_is_machine_learning'></a>"
   ]
  },
  {
   "cell_type": "markdown",
   "metadata": {},
   "source": [
    "## What is Machine Learning?"
   ]
  },
  {
   "cell_type": "markdown",
   "metadata": {},
   "source": [
    "During the 1980s-1990s, much of what we call now Machine Learning was referred as Artificial Intelligence (AI). AI was an umbrella term for any field of study converned with automation via learning.\n",
    "\n",
    "- Neural Networks\n",
    "- Genetic Algorithms\n",
    "- Fuzzy Logic\n",
    "- Probabilistic Models\n",
    "\n",
    "Due to a mixture of excitement-buzz-novelty and unfulfilled promises, funding for AI dried (In some countries it even dissapeared). Which brought the AI winter. \n",
    "\n",
    "At the late 1990s, and early 2000s, many people started to use more formal tools for learning, people with background in statistics and math started addressing the learning problem. \n",
    "\n",
    "AI was rebranded as Machine Learning (ML), and many algorithms from AI were absorbed into the ML community.\n",
    "\n",
    "- Support Vector Machines\n",
    "- K-Means\n",
    "- Linear Regression\n",
    "- Bayesian Inference\n",
    "\n",
    "---\n",
    "\n",
    "At the onset of this reinassance, Neural Networks (the ugly child) were rebranded as Deep Learning, and created a boom in the industry."
   ]
  },
  {
   "cell_type": "markdown",
   "metadata": {},
   "source": [
    "[![Hello](images/2016_08_17_11_09_10_machine_learning_Explore_Google_Trends.png)](https://www.google.com/trends/explore?date=all&q=machine%20learning)"
   ]
  },
  {
   "cell_type": "markdown",
   "metadata": {},
   "source": [
    "### But really, what is Machine Learning?"
   ]
  },
  {
   "cell_type": "markdown",
   "metadata": {},
   "source": [
    "Machine Learning doesn not have a formal definition but it is a subfield of Computer Science that megres Statistics, Probability, Optimization and Software Engineering to create automated systems and analyze data in a fast and efficient way."
   ]
  },
  {
   "cell_type": "markdown",
   "metadata": {},
   "source": [
    "<a id='machine_learning_apps'></a>"
   ]
  },
  {
   "cell_type": "markdown",
   "metadata": {},
   "source": [
    "# Who is using Machine Learning today?"
   ]
  },
  {
   "cell_type": "code",
   "execution_count": null,
   "metadata": {
    "collapsed": true
   },
   "outputs": [],
   "source": []
  },
  {
   "cell_type": "code",
   "execution_count": null,
   "metadata": {
    "collapsed": true
   },
   "outputs": [],
   "source": []
  },
  {
   "cell_type": "code",
   "execution_count": null,
   "metadata": {
    "collapsed": true
   },
   "outputs": [],
   "source": []
  },
  {
   "cell_type": "code",
   "execution_count": null,
   "metadata": {
    "collapsed": true
   },
   "outputs": [],
   "source": []
  },
  {
   "cell_type": "code",
   "execution_count": null,
   "metadata": {
    "collapsed": true
   },
   "outputs": [],
   "source": []
  },
  {
   "cell_type": "markdown",
   "metadata": {},
   "source": [
    "[Go back to the main page](https://leonpalafox.github.io/MLClass/)"
   ]
  },
  {
   "cell_type": "code",
   "execution_count": null,
   "metadata": {
    "collapsed": true
   },
   "outputs": [],
   "source": []
  }
 ],
 "metadata": {
  "celltoolbar": "Edit Metadata",
  "kernelspec": {
   "display_name": "Python 2",
   "language": "python",
   "name": "python2"
  },
  "language_info": {
   "codemirror_mode": {
    "name": "ipython",
    "version": 2
   },
   "file_extension": ".py",
   "mimetype": "text/x-python",
   "name": "python",
   "nbconvert_exporter": "python",
   "pygments_lexer": "ipython2",
   "version": "2.7.11"
  }
 },
 "nbformat": 4,
 "nbformat_minor": 0
}
